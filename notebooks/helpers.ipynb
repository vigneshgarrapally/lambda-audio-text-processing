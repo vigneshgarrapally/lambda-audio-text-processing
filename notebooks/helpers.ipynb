{
 "cells": [
  {
   "cell_type": "markdown",
   "metadata": {},
   "source": [
    "# Helper Functions\n",
    "\n",
    "## Table of Contents\n",
    "\n",
    "1. Create S3 bucket\n",
    "2. Upload file to S3 bucket\n",
    "3. Download file from S3 bucket\n"
   ]
  },
  {
   "cell_type": "code",
   "execution_count": 2,
   "metadata": {},
   "outputs": [],
   "source": [
    "# create a s3 bucket\n",
    "# https://boto3.amazonaws.com/v1/documentation/api/latest/reference/services/s3/client/create_bucket.html#create-bucket\n",
    "import boto3\n",
    "from dotenv import load_dotenv\n",
    "import os\n",
    "\n",
    "load_dotenv()\n",
    "ACCESS_KEY = os.getenv(\"AWS_ACCESS_KEY_ID\")\n",
    "SECRET_KEY = os.getenv(\"AWS_SECRET_ACCESS_KEY\")\n",
    "\n",
    "\n",
    "def create_s3_bucket(bucket_name, region=\"us-east-1\"):\n",
    "    \"\"\"\n",
    "    Creates an S3 bucket in the specified region.\n",
    "\n",
    "    Parameters:\n",
    "    - bucket_name (str): The name of the bucket to be created.\n",
    "    - region (str, optional): The AWS region in which to create the bucket. Default is 'us-east-1'.\n",
    "\n",
    "    Returns:\n",
    "    - A tuple of (bool, dict). The first element is a boolean indicating whether the bucket was created and the second element\n",
    "        is the response from the S3 API if the bucket was created successfully, otherwise None.\n",
    "    \"\"\"\n",
    "    s3 = boto3.client(\n",
    "        \"s3\",\n",
    "        region_name=region,\n",
    "        aws_access_key_id=ACCESS_KEY,\n",
    "        aws_secret_access_key=SECRET_KEY,\n",
    "    )\n",
    "\n",
    "    # Check if the bucket name is available\n",
    "    try:\n",
    "        s3.head_bucket(Bucket=bucket_name)\n",
    "        print(f\"Bucket '{bucket_name}' already exists.\")\n",
    "        return False, None\n",
    "    except Exception as e:\n",
    "        if e.response[\"Error\"][\"Code\"] == \"404\":\n",
    "            # Create the bucket\n",
    "            if region == \"us-east-1\":\n",
    "                response = s3.create_bucket(Bucket=bucket_name)\n",
    "            else:\n",
    "                response = s3.create_bucket(\n",
    "                    Bucket=bucket_name,\n",
    "                    CreateBucketConfiguration={\"LocationConstraint\": region},\n",
    "                )\n",
    "            print(f\"Bucket '{bucket_name}' created successfully.\")\n",
    "            return True, response\n",
    "        else:\n",
    "            # Other errors occurred\n",
    "            print(f\"Error: {e}\")\n",
    "            return False, None"
   ]
  },
  {
   "cell_type": "code",
   "execution_count": 3,
   "metadata": {},
   "outputs": [
    {
     "name": "stdout",
     "output_type": "stream",
     "text": [
      "Bucket 'pmd-lambda-outputs' already exists.\n"
     ]
    },
    {
     "data": {
      "text/plain": [
       "(False, None)"
      ]
     },
     "execution_count": 3,
     "metadata": {},
     "output_type": "execute_result"
    }
   ],
   "source": [
    "# Example usage\n",
    "bucket_name = \"pmd-lambda-outputs\"\n",
    "region = \"us-east-1\"\n",
    "create_s3_bucket(bucket_name, region)"
   ]
  },
  {
   "cell_type": "code",
   "execution_count": 5,
   "metadata": {},
   "outputs": [
    {
     "name": "stdout",
     "output_type": "stream",
     "text": [
      "Bucket 'pmd-lambda-layers' created successfully.\n"
     ]
    },
    {
     "data": {
      "text/plain": [
       "(True,\n",
       " {'ResponseMetadata': {'RequestId': '7GWZTDQXSJGA00E8',\n",
       "   'HostId': '1QIPcd0U+TkTnbStn3JQxmQy2cHN0CYW6aN6X022r9jjXYQFZEvpXjzlHuzCYpaTWlY4U8xdZa4=',\n",
       "   'HTTPStatusCode': 200,\n",
       "   'HTTPHeaders': {'x-amz-id-2': '1QIPcd0U+TkTnbStn3JQxmQy2cHN0CYW6aN6X022r9jjXYQFZEvpXjzlHuzCYpaTWlY4U8xdZa4=',\n",
       "    'x-amz-request-id': '7GWZTDQXSJGA00E8',\n",
       "    'date': 'Mon, 03 Jul 2023 19:11:12 GMT',\n",
       "    'location': '/pmd-lambda-layers',\n",
       "    'server': 'AmazonS3',\n",
       "    'content-length': '0'},\n",
       "   'RetryAttempts': 0},\n",
       "  'Location': '/pmd-lambda-layers'})"
      ]
     },
     "execution_count": 5,
     "metadata": {},
     "output_type": "execute_result"
    }
   ],
   "source": [
    "# Example usage\n",
    "bucket_name = \"pmd-lambda-layers\"\n",
    "region = \"us-east-1\"\n",
    "create_s3_bucket(bucket_name, region)"
   ]
  },
  {
   "cell_type": "code",
   "execution_count": 6,
   "metadata": {},
   "outputs": [],
   "source": [
    "def upload_file_to_s3(\n",
    "    local_file_path, bucket_name, s3_file_key=None, buffered_data=None\n",
    "):\n",
    "    \"\"\"\n",
    "    Uploads a file to Amazon S3.\n",
    "\n",
    "    Parameters:\n",
    "    - local_file_path (str): The local file path of the file to upload.\n",
    "    - bucket_name (str): The name of the S3 bucket to upload the file to.\n",
    "    - s3_file_key (str, optional): The S3 file key (path) where the file will be stored. If not provided,\n",
    "                                  the file will be stored in the root of the bucket with the same name as the\n",
    "                                  local file.\n",
    "    - buffered_data (bytes, optional): The buffered data to upload instead of using a local file. If provided,\n",
    "                                       local_file_path will be ignored.\n",
    "\n",
    "    Returns:\n",
    "    - The S3 URL of the uploaded file.\n",
    "    \"\"\"\n",
    "    s3 = boto3.client(\n",
    "        \"s3\",\n",
    "        aws_access_key_id=os.environ.get(\"AWS_ACCESS_KEY_ID\"),\n",
    "        aws_secret_access_key=os.environ.get(\"AWS_SECRET_ACCESS_KEY\"),\n",
    "        region_name=os.environ.get(\"AWS_REGION\"),\n",
    "    )\n",
    "    if buffered_data:\n",
    "        response = s3.put_object(\n",
    "            Bucket=bucket_name, Key=s3_file_key, Body=buffered_data\n",
    "        )\n",
    "    else:\n",
    "        # If s3_file_key is not provided, use the local file name as the key\n",
    "        if s3_file_key is None:\n",
    "            s3_file_key = local_file_path.split(\"/\")[-1]\n",
    "\n",
    "        # Upload the file to S3\n",
    "        with open(local_file_path, \"rb\") as file:\n",
    "            response = s3.put_object(Bucket=bucket_name, Key=s3_file_key, Body=file)\n",
    "\n",
    "    # Get the URL of the uploaded file\n",
    "    s3_url = f\"https://{bucket_name}.s3.amazonaws.com/{s3_file_key}\"\n",
    "    return s3_url\n"
   ]
  },
  {
   "cell_type": "code",
   "execution_count": 8,
   "metadata": {},
   "outputs": [
    {
     "data": {
      "text/plain": [
       "'https://pmd-lambda-layers.s3.amazonaws.com/texttospeechlayer.zip'"
      ]
     },
     "execution_count": 8,
     "metadata": {},
     "output_type": "execute_result"
    }
   ],
   "source": [
    "upload_file_to_s3(\n",
    "    \"..\\\\lambdas\\\\lambda2\\\\layers\\\\texttospeechlayer.zip\",\n",
    "    \"pmd-lambda-layers\",\n",
    "    \"texttospeechlayer.zip\",\n",
    ")"
   ]
  },
  {
   "cell_type": "code",
   "execution_count": 38,
   "metadata": {},
   "outputs": [
    {
     "name": "stdout",
     "output_type": "stream",
     "text": [
      "Bucket name: pmd-lambda-outputs, Object key: audio_files/sample_audio.wav\n",
      "File downloaded successfully to audio_files/sample_audio.wav.\n"
     ]
    },
    {
     "data": {
      "text/plain": [
       "True"
      ]
     },
     "execution_count": 38,
     "metadata": {},
     "output_type": "execute_result"
    }
   ],
   "source": [
    "import boto3\n",
    "from pathlib import Path\n",
    "\n",
    "\n",
    "def download_file_from_s3(s3_url, local_file_path):\n",
    "    \"\"\"\n",
    "    Downloads a file from an S3 URL to a local file.\n",
    "\n",
    "    Parameters:\n",
    "    - s3_url (str): The URL of the file in S3, e.g., 'https://your-bucket-name.s3.amazonaws.com/your-file.txt'.\n",
    "    - local_file_path (str): The local file path where the downloaded file will be stored.\n",
    "\n",
    "    Returns:\n",
    "    - True if the download is successful, False otherwise.\n",
    "    \"\"\"\n",
    "    s3 = boto3.client(\n",
    "        \"s3\",\n",
    "        region_name=os.environ.get(\"AWS_REGION\"),\n",
    "        aws_access_key_id=os.environ.get(\"AWS_ACCESS_KEY_ID\"),\n",
    "        aws_secret_access_key=os.environ.get(\"AWS_SECRET_ACCESS_KEY\"),\n",
    "    )\n",
    "\n",
    "    # Extract the bucket name and object key from the S3 URL\n",
    "    try:\n",
    "        bucket_name = s3_url.split(\"//\")[1].split(\".\")[0]\n",
    "        object_key = s3_url.split(bucket_name + \".s3.amazonaws.com/\")[1]\n",
    "    except Exception as e:\n",
    "        print(\"Error parsing the S3 URL:\", e)\n",
    "        return False\n",
    "    print(f\"Bucket name: {bucket_name}, Object key: {object_key}\")\n",
    "    if local_file_path == \"\":\n",
    "        local_file_path = object_key\n",
    "    # create directory if not exists\n",
    "    Path(local_file_path).parent.mkdir(parents=True, exist_ok=True)\n",
    "    # Download the file from S3\n",
    "    try:\n",
    "        s3.download_file(bucket_name, object_key, local_file_path)\n",
    "        print(f\"File downloaded successfully to {local_file_path}.\")\n",
    "        return True\n",
    "    except Exception as e:\n",
    "        print(\"Error downloading the file:\", e)\n",
    "        return False\n",
    "\n",
    "\n",
    "# Example usage\n",
    "s3_url = \"https://pmd-lambda-outputs.s3.amazonaws.com/audio_files/sample_audio.wav\"\n",
    "local_file_path = \"\"\n",
    "download_file_from_s3(s3_url, local_file_path)\n"
   ]
  }
 ],
 "metadata": {
  "kernelspec": {
   "display_name": "personal",
   "language": "python",
   "name": "python3"
  },
  "language_info": {
   "codemirror_mode": {
    "name": "ipython",
    "version": 3
   },
   "file_extension": ".py",
   "mimetype": "text/x-python",
   "name": "python",
   "nbconvert_exporter": "python",
   "pygments_lexer": "ipython3",
   "version": "3.10.11"
  },
  "orig_nbformat": 4
 },
 "nbformat": 4,
 "nbformat_minor": 2
}
