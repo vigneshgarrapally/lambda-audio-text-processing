{
 "cells": [
  {
   "cell_type": "code",
   "execution_count": 32,
   "metadata": {},
   "outputs": [
    {
     "name": "stdout",
     "output_type": "stream",
     "text": [
      "input_variables=['text', 'prompt'] output_parser=None partial_variables={} template='Prompt that was provided is: {prompt}.Text that was provided is: {text}.' template_format='f-string' validate_template=True\n"
     ]
    },
    {
     "data": {
      "text/plain": [
       "'\\n\\nHow about \"Fashionista Boutique\"?'"
      ]
     },
     "execution_count": 32,
     "metadata": {},
     "output_type": "execute_result"
    }
   ],
   "source": [
    "from langchain import PromptTemplate, OpenAI, LLMChain\n",
    "from langchain import PromptTemplate\n",
    "\n",
    "\n",
    "def test():\n",
    "    text = \"I want to start a company sells clothes.\"\n",
    "    given_prompt = \"What should I name my company?\"\n",
    "    prompt = PromptTemplate(\n",
    "        input_variables=[\"text\", \"prompt\"],\n",
    "        template=\"Prompt that was provided is: {prompt}.Text that was provided is: {text}.\",\n",
    "    )\n",
    "    llm = OpenAI(temperature=0)\n",
    "    llm_chain = LLMChain(llm=llm, prompt=prompt)\n",
    "    print(prompt)\n",
    "    answer = llm_chain.predict(text=text, prompt=given_prompt)\n",
    "    return answer\n",
    "\n",
    "\n",
    "test()"
   ]
  },
  {
   "cell_type": "code",
   "execution_count": 19,
   "metadata": {},
   "outputs": [],
   "source": [
    "import json\n",
    "\n",
    "\n",
    "def lambda_handler(text, prompt):\n",
    "    # create prompt template\n",
    "    prompt = PromptTemplate(\n",
    "        input_variables=[\"text\", \"prompt\"],\n",
    "        template=\"Prompt that was provided is: {prompt}.Text that was provided is: {text}.\",\n",
    "    )\n",
    "    llm = OpenAI(temperature=0)\n",
    "    llm_chain = LLMChain(llm=llm, prompt=prompt)\n",
    "    answer = llm_chain.predict(\n",
    "        text=text,\n",
    "        prompt=prompt,\n",
    "    )\n",
    "    print(answer)"
   ]
  },
  {
   "cell_type": "code",
   "execution_count": 20,
   "metadata": {},
   "outputs": [
    {
     "name": "stdout",
     "output_type": "stream",
     "text": [
      "\n",
      "\n",
      "Prompt that was provided is: I want to start a company sells clothes.. Text that was provided is: I want to start a company sells clothes..\n"
     ]
    }
   ],
   "source": [
    "lambda_handler(\n",
    "    text=\"I want to start a company sells clothes.\",\n",
    "    prompt=\"What should I name my company?\",\n",
    ")"
   ]
  },
  {
   "cell_type": "code",
   "execution_count": null,
   "metadata": {},
   "outputs": [],
   "source": []
  }
 ],
 "metadata": {
  "kernelspec": {
   "display_name": "personal",
   "language": "python",
   "name": "python3"
  },
  "language_info": {
   "codemirror_mode": {
    "name": "ipython",
    "version": 3
   },
   "file_extension": ".py",
   "mimetype": "text/x-python",
   "name": "python",
   "nbconvert_exporter": "python",
   "pygments_lexer": "ipython3",
   "version": "3.10.11"
  },
  "orig_nbformat": 4
 },
 "nbformat": 4,
 "nbformat_minor": 2
}
