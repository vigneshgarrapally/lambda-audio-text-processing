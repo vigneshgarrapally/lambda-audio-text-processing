{
 "cells": [
  {
   "cell_type": "markdown",
   "metadata": {},
   "source": [
    "# Test Lambda Functions\n"
   ]
  },
  {
   "cell_type": "markdown",
   "metadata": {},
   "source": [
    "This notebook is to test the lambda functions that are defined in the [lambdas](../lambdas/) folder\n"
   ]
  },
  {
   "cell_type": "code",
   "execution_count": 1,
   "metadata": {},
   "outputs": [],
   "source": [
    "%load_ext autoreload\n",
    "%autoreload 2"
   ]
  },
  {
   "cell_type": "markdown",
   "metadata": {},
   "source": [
    "## Transcription Lambda\n"
   ]
  },
  {
   "cell_type": "code",
   "execution_count": 1,
   "metadata": {},
   "outputs": [
    {
     "name": "stdout",
     "output_type": "stream",
     "text": [
      "{'s3_audio_url': 'https://pmd-lambda-outputs.s3.amazonaws.com/audio_files/sample_audio.wav', 'api': 'deepgram'}\n",
      "Aduio URL:  https://pmd-lambda-outputs.s3.amazonaws.com/audio_files/sample_audio.wav\n",
      "API to use for transcription:  whisper\n",
      "Bucket name: pmd-lambda-outputs, Object key: audio_files/sample_audio.wav\n",
      "Filename: /tmp/sample_audio.wav\n",
      "File downloaded successfully to /tmp/sample_audio.wav\n",
      "Transcription:  This dynamic workshop aims to provide up-to-date information on pharmacological approaches, issues, and treatment in the geriatric population to assist in preventing medication-related problems, appropriately and effectively managing medications and compliance. The concept of polypharmacy, taking multiple types of drugs, will also be discussed, as this is a common issue that can impact adverse side effects in the geriatric population. Participants will leave with the knowledge and considerations of common drug interaction and how to minimize effects that limit function. Summit Professional Education is approved provider of continuing education. This course is offered for six units. This course contains content classified under both the domain of occupational therapy and professional issues, period.\n",
      "{'statusCode': 200, 'body': '\"This dynamic workshop aims to provide up-to-date information on pharmacological approaches, issues, and treatment in the geriatric population to assist in preventing medication-related problems, appropriately and effectively managing medications and compliance. The concept of polypharmacy, taking multiple types of drugs, will also be discussed, as this is a common issue that can impact adverse side effects in the geriatric population. Participants will leave with the knowledge and considerations of common drug interaction and how to minimize effects that limit function. Summit Professional Education is approved provider of continuing education. This course is offered for six units. This course contains content classified under both the domain of occupational therapy and professional issues, period.\"'}\n"
     ]
    }
   ],
   "source": [
    "# local testing\n",
    "import json\n",
    "import sys\n",
    "\n",
    "sys.path.append(\"../lambdas/lambda1\")\n",
    "from transcription import lambda_handler\n",
    "\n",
    "\n",
    "payload = {\n",
    "    \"body\": json.dumps(\n",
    "        {\n",
    "            \"s3_audio_url\": \"https://pmd-lambda-outputs.s3.amazonaws.com/audio_files/sample_audio.wav\",\n",
    "            \"api\": \"deepgram\",\n",
    "        }\n",
    "    )\n",
    "}\n",
    "\n",
    "response = lambda_handler(payload, None)\n",
    "print(response)\n"
   ]
  },
  {
   "cell_type": "code",
   "execution_count": 9,
   "metadata": {},
   "outputs": [
    {
     "name": "stdout",
     "output_type": "stream",
     "text": [
      "{'statusCode': 200, 'body': '\"This dynamic workshop aims to provide up-to-date information on pharmacological approaches, issues, and treatment in the geriatric population to assist in preventing medication-related problems, appropriately and effectively managing medications and compliance. The concept of polypharmacy, taking multiple types of drugs, will also be discussed, as this is a common issue that can impact adverse side effects in the geriatric population. Participants will leave with the knowledge and considerations of common drug interaction and how to minimize effects that limit function. Summit Professional Education is approved provider of continuing education. This course is offered for six units. This course contains content classified under both the domain of occupational therapy and professional issues, period.\"'}\n"
     ]
    }
   ],
   "source": [
    "# aws testing\n",
    "import boto3\n",
    "import json\n",
    "\n",
    "payload = {\n",
    "    \"body\": json.dumps(\n",
    "        {\n",
    "            \"s3_audio_url\": \"https://pmd-lambda-outputs.s3.amazonaws.com/audio_files/sample_audio.wav\",\n",
    "            \"api\": \"whisper\",\n",
    "        }\n",
    "    )\n",
    "}\n",
    "\n",
    "client = boto3.client(\"lambda\")\n",
    "response = client.invoke(\n",
    "    FunctionName=\"transcriptionlambda\",\n",
    "    InvocationType=\"RequestResponse\",\n",
    "    Payload=json.dumps(payload),\n",
    ")\n",
    "response = json.loads(response[\"Payload\"].read())\n",
    "print(response)"
   ]
  },
  {
   "cell_type": "markdown",
   "metadata": {},
   "source": [
    "## Text To Speech lambda\n"
   ]
  },
  {
   "cell_type": "code",
   "execution_count": 6,
   "metadata": {},
   "outputs": [
    {
     "name": "stdout",
     "output_type": "stream",
     "text": [
      "{'text': 'Hello, this is a sample text to speech file. Do you like my voice?', 'api': 'something'}\n",
      "API to use for transcription:  something\n",
      "/tmp/2023-07-04_021454.wav\n",
      "API not supported\n",
      "{'statusCode': 400, 'body': 'API not supported. Please use elevenlabs or google'}\n"
     ]
    }
   ],
   "source": [
    "# local testing\n",
    "import json\n",
    "import sys\n",
    "\n",
    "sys.path.append(\"../lambdas/lambda2\")\n",
    "from text_to_speech import lambda_handler\n",
    "\n",
    "\n",
    "payload = {\n",
    "    \"body\": json.dumps(\n",
    "        {\n",
    "            \"text\": \"Hello, this is a sample text to speech file. Do you like my voice?\",\n",
    "            \"api\": \"elevenlabs\",\n",
    "        }\n",
    "    )\n",
    "}\n",
    "\n",
    "response = lambda_handler(payload, None)\n",
    "print(response)\n"
   ]
  },
  {
   "cell_type": "code",
   "execution_count": 13,
   "metadata": {},
   "outputs": [
    {
     "name": "stdout",
     "output_type": "stream",
     "text": [
      "{'statusCode': 200, 'body': '\"https://pmd-lambda-outputs.s3.amazonaws.com/2023-07-03_211927.wav\"'}\n"
     ]
    }
   ],
   "source": [
    "# aws testing\n",
    "import boto3\n",
    "import json\n",
    "\n",
    "payload = {\n",
    "    \"body\": json.dumps(\n",
    "        {\n",
    "            \"text\": \"Hello, this is a sample text to speech file. Do you like my voice?\",\n",
    "            \"api\": \"elevenlabs\",\n",
    "        }\n",
    "    )\n",
    "}\n",
    "\n",
    "client = boto3.client(\"lambda\")\n",
    "response = client.invoke(\n",
    "    FunctionName=\"texttospeechlambda\",\n",
    "    InvocationType=\"RequestResponse\",\n",
    "    Payload=json.dumps(payload),\n",
    ")\n",
    "response = json.loads(response[\"Payload\"].read())\n",
    "print(response)\n"
   ]
  }
 ],
 "metadata": {
  "kernelspec": {
   "display_name": "personal",
   "language": "python",
   "name": "python3"
  },
  "language_info": {
   "codemirror_mode": {
    "name": "ipython",
    "version": 3
   },
   "file_extension": ".py",
   "mimetype": "text/x-python",
   "name": "python",
   "nbconvert_exporter": "python",
   "pygments_lexer": "ipython3",
   "version": "3.10.11"
  },
  "orig_nbformat": 4
 },
 "nbformat": 4,
 "nbformat_minor": 2
}
