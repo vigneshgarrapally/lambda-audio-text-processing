{
 "cells": [
  {
   "cell_type": "markdown",
   "metadata": {},
   "source": [
    "# Test Lambda Functions\n"
   ]
  },
  {
   "cell_type": "markdown",
   "metadata": {},
   "source": [
    "This notebook is to test the lambda functions that are defined in the [lambdas](../lambdas/) folder\n"
   ]
  },
  {
   "cell_type": "code",
   "execution_count": 1,
   "metadata": {},
   "outputs": [],
   "source": [
    "%load_ext autoreload\n",
    "%autoreload 2"
   ]
  },
  {
   "cell_type": "markdown",
   "metadata": {},
   "source": [
    "## Transcription Lambda\n"
   ]
  },
  {
   "cell_type": "code",
   "execution_count": 5,
   "metadata": {},
   "outputs": [
    {
     "name": "stdout",
     "output_type": "stream",
     "text": [
      "Overwriting test_transcription.py\n"
     ]
    }
   ],
   "source": [
    "%%writefile test_transcription.py\n",
    "# local testing\n",
    "import json\n",
    "import sys\n",
    "\n",
    "from dotenv import load_dotenv\n",
    "\n",
    "load_dotenv()\n",
    "sys.path.append(\"../lambdas/lambda1\")\n",
    "from transcription import lambda_handler\n",
    "\n",
    "\n",
    "payload = {\n",
    "    \"body\": json.dumps(\n",
    "        {\n",
    "            \"s3_audio_url\": \"https://pmd-lambda-outputs.s3.amazonaws.com/audio_files/sample_audio.wav\",\n",
    "            \"api_name\": \"deepgram\",\n",
    "        }\n",
    "    )\n",
    "}\n",
    "\n",
    "response = lambda_handler(payload, None)\n",
    "print(response)"
   ]
  },
  {
   "cell_type": "code",
   "execution_count": 6,
   "metadata": {},
   "outputs": [
    {
     "name": "stdout",
     "output_type": "stream",
     "text": [
      "{'statusCode': 200, 'body': '\"This dynamic workshop aims to provide up to date information on pharmacological approach as comma issues, comma and treatment in the geriatric population to assist in preventing medication related problems, comma appropriately and effectively managing medications and compliance period. The concept of poly pharmacy parenthesis taking multiple types of drugs parenthesis will also be discussed as this is a common issue that can impact adverse side effects in the aeriatric population period. Participants will leave with the knowledge and considerations of common drug interaction and how to minimize the effects that limit function, period. Summit professional education is approved provider of continuing education Perion. This course is offered for six units. Period. This course contains content classified under the both the domain of patiental therapy and professional issues, period.\"'}\n"
     ]
    }
   ],
   "source": [
    "!python test_transcription.py"
   ]
  },
  {
   "cell_type": "code",
   "execution_count": 9,
   "metadata": {},
   "outputs": [
    {
     "name": "stdout",
     "output_type": "stream",
     "text": [
      "{'statusCode': 200, 'body': '\"This dynamic workshop aims to provide up-to-date information on pharmacological approaches, issues, and treatment in the geriatric population to assist in preventing medication-related problems, appropriately and effectively managing medications and compliance, period. The concept of polypharmacy, parentheses, taking multiple types of drugs, parentheses, will also be discussed, comma, as this is a common issue that can impact adverse side effects in the geriatric population, period. Participants will leave with the knowledge and considerations of common drug interaction and how to minimize effects that limit function, period. Summit Professional Education is approved provider of continuing education, period. This course is offered for six units, period. This course contains content classified under both the domain of occupational therapy and professional issues, period.\"'}\n"
     ]
    }
   ],
   "source": [
    "# aws testing\n",
    "import boto3\n",
    "import json\n",
    "\n",
    "payload = {\n",
    "    \"body\": json.dumps(\n",
    "        {\n",
    "            \"s3_audio_url\": \"https://pmd-lambda-outputs.s3.amazonaws.com/audio_files/sample_audio.wav\",\n",
    "            \"api_name\": \"whisper\",\n",
    "        }\n",
    "    )\n",
    "}\n",
    "\n",
    "client = boto3.client(\"lambda\")\n",
    "response = client.invoke(\n",
    "    FunctionName=\"transcriptionlambda\",\n",
    "    InvocationType=\"RequestResponse\",\n",
    "    Payload=json.dumps(payload),\n",
    ")\n",
    "response = json.loads(response[\"Payload\"].read())\n",
    "print(response)"
   ]
  },
  {
   "cell_type": "markdown",
   "metadata": {},
   "source": [
    "## Text To Speech lambda\n"
   ]
  },
  {
   "cell_type": "code",
   "execution_count": 6,
   "metadata": {},
   "outputs": [
    {
     "name": "stderr",
     "output_type": "stream",
     "text": [
      "INFO:root:{'text': 'Hello, this is a sample text to speech file. Do you like my voice?', 'api': 'elevenlabs'}\n",
      "INFO:root:Text: Hello, this is a sample text to speech file. Do you like my voice?\n",
      "INFO:root:API: elevenlabs\n",
      "INFO:root:Filename: /tmp/2023-07-13_132029.wav\n",
      "INFO:root:S3 URL: https://pmd-lambda-outputs.s3.amazonaws.com/2023-07-13_132029.wav\n"
     ]
    },
    {
     "name": "stdout",
     "output_type": "stream",
     "text": [
      "{'statusCode': 200, 'body': '\"https://pmd-lambda-outputs.s3.amazonaws.com/2023-07-13_132029.wav\"'}\n"
     ]
    }
   ],
   "source": [
    "# local testing\n",
    "import json\n",
    "import sys\n",
    "\n",
    "sys.path.append(\"../lambdas/lambda2\")\n",
    "from text_to_speech import lambda_handler\n",
    "\n",
    "\n",
    "payload = {\n",
    "    \"body\": json.dumps(\n",
    "        {\n",
    "            \"text\": \"Hello, this is a sample text to speech file. Do you like my voice?\",\n",
    "            \"api\": \"elevenlabs\",\n",
    "        }\n",
    "    )\n",
    "}\n",
    "\n",
    "response = lambda_handler(payload, None)\n",
    "print(response)\n"
   ]
  },
  {
   "cell_type": "code",
   "execution_count": 2,
   "metadata": {},
   "outputs": [
    {
     "name": "stdout",
     "output_type": "stream",
     "text": [
      "{'statusCode': 200, 'body': '\"https://pmd-lambda-outputs.s3.amazonaws.com/2023-07-13_074929.wav\"'}\n"
     ]
    }
   ],
   "source": [
    "# aws testing\n",
    "import boto3\n",
    "import json\n",
    "\n",
    "payload = {\n",
    "    \"body\": json.dumps(\n",
    "        {\n",
    "            \"text\": \"Hello, this is a sample text to speech file. Do you like my voice?\",\n",
    "            \"api\": \"google\",\n",
    "        }\n",
    "    )\n",
    "}\n",
    "\n",
    "client = boto3.client(\"lambda\")\n",
    "response = client.invoke(\n",
    "    FunctionName=\"texttospeechlambda\",\n",
    "    InvocationType=\"RequestResponse\",\n",
    "    Payload=json.dumps(payload),\n",
    ")\n",
    "response = json.loads(response[\"Payload\"].read())\n",
    "print(response)\n"
   ]
  },
  {
   "cell_type": "markdown",
   "metadata": {},
   "source": [
    "## LLM Text Processing Lambda Function\n"
   ]
  },
  {
   "cell_type": "code",
   "execution_count": 10,
   "metadata": {},
   "outputs": [
    {
     "name": "stdout",
     "output_type": "stream",
     "text": [
      "{'statusCode': 200, 'body': '{\"answer\": \"\\\\n\\\\nAnswer: Auto-Matic Laughter Motors.\"}'}\n"
     ]
    }
   ],
   "source": [
    "# local testing\n",
    "import json\n",
    "import sys\n",
    "\n",
    "sys.path.append(\"../lambdas/lambda3\")\n",
    "from llm_text_processing import lambda_handler\n",
    "\n",
    "system_prompts = [\n",
    "    \"Suggest a funny name\",\n",
    "    \"The name also has to be creative\",\n",
    "    \"I want to start a company that makes cars\",\n",
    "]\n",
    "\n",
    "payload = {\n",
    "    \"body\": json.dumps(\n",
    "        {\n",
    "            \"text\": \"I want to start a company that makes cars.\",\n",
    "            \"system_prompts\": system_prompts,\n",
    "            \"temperature\": 0.5,\n",
    "        }\n",
    "    )\n",
    "}\n",
    "\n",
    "response = lambda_handler(payload, None)\n",
    "print(response)"
   ]
  },
  {
   "cell_type": "code",
   "execution_count": 12,
   "metadata": {},
   "outputs": [
    {
     "name": "stdout",
     "output_type": "stream",
     "text": [
      "{'statusCode': 200, 'body': '{\"answer\": \"\\\\n\\\\nAnswer: Zoomobile Motors.\"}'}\n"
     ]
    }
   ],
   "source": [
    "import boto3\n",
    "import json\n",
    "\n",
    "\n",
    "system_prompts = [\n",
    "    \"Suggest a funny name\",\n",
    "    \"The name also has to be creative\",\n",
    "    \"I want to start a company that makes cars\",\n",
    "]\n",
    "\n",
    "payload = {\n",
    "    \"body\": json.dumps(\n",
    "        {\n",
    "            \"text\": \"I want to start a company that makes cars.\",\n",
    "            \"system_prompts\": system_prompts,\n",
    "            \"temperature\": 0.5,\n",
    "        }\n",
    "    )\n",
    "}\n",
    "\n",
    "client = boto3.client(\"lambda\")\n",
    "response = client.invoke(\n",
    "    FunctionName=\"llm-text-processing\",\n",
    "    InvocationType=\"RequestResponse\",\n",
    "    Payload=json.dumps(payload),\n",
    ")\n",
    "response = json.loads(response[\"Payload\"].read())\n",
    "print(response)"
   ]
  }
 ],
 "metadata": {
  "kernelspec": {
   "display_name": "personal",
   "language": "python",
   "name": "python3"
  },
  "language_info": {
   "codemirror_mode": {
    "name": "ipython",
    "version": 3
   },
   "file_extension": ".py",
   "mimetype": "text/x-python",
   "name": "python",
   "nbconvert_exporter": "python",
   "pygments_lexer": "ipython3",
   "version": "3.10.11"
  },
  "orig_nbformat": 4
 },
 "nbformat": 4,
 "nbformat_minor": 2
}
